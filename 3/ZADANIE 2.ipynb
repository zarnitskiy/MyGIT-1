{
 "cells": [
  {
   "cell_type": "code",
   "execution_count": 1,
   "id": "118b85b1",
   "metadata": {},
   "outputs": [],
   "source": [
    "import pandas as pd\n",
    "\n"
   ]
  },
  {
   "cell_type": "code",
   "execution_count": 2,
   "id": "485b058a",
   "metadata": {},
   "outputs": [],
   "source": [
    "import numpy as np"
   ]
  },
  {
   "cell_type": "code",
   "execution_count": 3,
   "id": "52ce4c8c",
   "metadata": {},
   "outputs": [
    {
     "name": "stderr",
     "output_type": "stream",
     "text": [
      "C:\\Users\\maks-\\anaconda3\\envs\\my\\lib\\site-packages\\IPython\\core\\interactiveshell.py:3441: DtypeWarning: Columns (2) have mixed types.Specify dtype option on import or set low_memory=False.\n",
      "  exec(code_obj, self.user_global_ns, self.user_ns)\n"
     ]
    }
   ],
   "source": [
    "df = pd.read_csv(r'\\Users\\maks-\\Untitled Folder\\city_temperature.csv')"
   ]
  },
  {
   "cell_type": "code",
   "execution_count": 4,
   "id": "1fbe53a3",
   "metadata": {},
   "outputs": [],
   "source": [
    "new_df = df.loc[df['City'] == 'Moscow',]\n"
   ]
  },
  {
   "cell_type": "code",
   "execution_count": 5,
   "id": "4aae3c57",
   "metadata": {},
   "outputs": [],
   "source": [
    "lt_df = new_df.loc[new_df['Month'] == 11,]"
   ]
  },
  {
   "cell_type": "code",
   "execution_count": 6,
   "id": "4c0e1701",
   "metadata": {},
   "outputs": [],
   "source": [
    "data = lt_df.loc[lt_df['Year'] == 2018,]"
   ]
  },
  {
   "cell_type": "code",
   "execution_count": 8,
   "id": "7b7cb5d5",
   "metadata": {},
   "outputs": [
    {
     "data": {
      "text/html": [
       "<div>\n",
       "<style scoped>\n",
       "    .dataframe tbody tr th:only-of-type {\n",
       "        vertical-align: middle;\n",
       "    }\n",
       "\n",
       "    .dataframe tbody tr th {\n",
       "        vertical-align: top;\n",
       "    }\n",
       "\n",
       "    .dataframe thead th {\n",
       "        text-align: right;\n",
       "    }\n",
       "</style>\n",
       "<table border=\"1\" class=\"dataframe\">\n",
       "  <thead>\n",
       "    <tr style=\"text-align: right;\">\n",
       "      <th></th>\n",
       "      <th>Region</th>\n",
       "      <th>Country</th>\n",
       "      <th>State</th>\n",
       "      <th>City</th>\n",
       "      <th>Month</th>\n",
       "      <th>Day</th>\n",
       "      <th>Year</th>\n",
       "      <th>AvgTemperature</th>\n",
       "    </tr>\n",
       "  </thead>\n",
       "  <tbody>\n",
       "    <tr>\n",
       "      <th>886962</th>\n",
       "      <td>Europe</td>\n",
       "      <td>Russia</td>\n",
       "      <td>NaN</td>\n",
       "      <td>Moscow</td>\n",
       "      <td>11</td>\n",
       "      <td>1</td>\n",
       "      <td>2018</td>\n",
       "      <td>37.6</td>\n",
       "    </tr>\n",
       "    <tr>\n",
       "      <th>886963</th>\n",
       "      <td>Europe</td>\n",
       "      <td>Russia</td>\n",
       "      <td>NaN</td>\n",
       "      <td>Moscow</td>\n",
       "      <td>11</td>\n",
       "      <td>2</td>\n",
       "      <td>2018</td>\n",
       "      <td>42.1</td>\n",
       "    </tr>\n",
       "    <tr>\n",
       "      <th>886964</th>\n",
       "      <td>Europe</td>\n",
       "      <td>Russia</td>\n",
       "      <td>NaN</td>\n",
       "      <td>Moscow</td>\n",
       "      <td>11</td>\n",
       "      <td>3</td>\n",
       "      <td>2018</td>\n",
       "      <td>45.6</td>\n",
       "    </tr>\n",
       "    <tr>\n",
       "      <th>886965</th>\n",
       "      <td>Europe</td>\n",
       "      <td>Russia</td>\n",
       "      <td>NaN</td>\n",
       "      <td>Moscow</td>\n",
       "      <td>11</td>\n",
       "      <td>4</td>\n",
       "      <td>2018</td>\n",
       "      <td>42.4</td>\n",
       "    </tr>\n",
       "    <tr>\n",
       "      <th>886966</th>\n",
       "      <td>Europe</td>\n",
       "      <td>Russia</td>\n",
       "      <td>NaN</td>\n",
       "      <td>Moscow</td>\n",
       "      <td>11</td>\n",
       "      <td>5</td>\n",
       "      <td>2018</td>\n",
       "      <td>35.4</td>\n",
       "    </tr>\n",
       "    <tr>\n",
       "      <th>886967</th>\n",
       "      <td>Europe</td>\n",
       "      <td>Russia</td>\n",
       "      <td>NaN</td>\n",
       "      <td>Moscow</td>\n",
       "      <td>11</td>\n",
       "      <td>6</td>\n",
       "      <td>2018</td>\n",
       "      <td>35.7</td>\n",
       "    </tr>\n",
       "    <tr>\n",
       "      <th>886968</th>\n",
       "      <td>Europe</td>\n",
       "      <td>Russia</td>\n",
       "      <td>NaN</td>\n",
       "      <td>Moscow</td>\n",
       "      <td>11</td>\n",
       "      <td>7</td>\n",
       "      <td>2018</td>\n",
       "      <td>34.1</td>\n",
       "    </tr>\n",
       "    <tr>\n",
       "      <th>886969</th>\n",
       "      <td>Europe</td>\n",
       "      <td>Russia</td>\n",
       "      <td>NaN</td>\n",
       "      <td>Moscow</td>\n",
       "      <td>11</td>\n",
       "      <td>8</td>\n",
       "      <td>2018</td>\n",
       "      <td>35.6</td>\n",
       "    </tr>\n",
       "    <tr>\n",
       "      <th>886970</th>\n",
       "      <td>Europe</td>\n",
       "      <td>Russia</td>\n",
       "      <td>NaN</td>\n",
       "      <td>Moscow</td>\n",
       "      <td>11</td>\n",
       "      <td>9</td>\n",
       "      <td>2018</td>\n",
       "      <td>35.1</td>\n",
       "    </tr>\n",
       "    <tr>\n",
       "      <th>886971</th>\n",
       "      <td>Europe</td>\n",
       "      <td>Russia</td>\n",
       "      <td>NaN</td>\n",
       "      <td>Moscow</td>\n",
       "      <td>11</td>\n",
       "      <td>10</td>\n",
       "      <td>2018</td>\n",
       "      <td>34.5</td>\n",
       "    </tr>\n",
       "    <tr>\n",
       "      <th>886972</th>\n",
       "      <td>Europe</td>\n",
       "      <td>Russia</td>\n",
       "      <td>NaN</td>\n",
       "      <td>Moscow</td>\n",
       "      <td>11</td>\n",
       "      <td>11</td>\n",
       "      <td>2018</td>\n",
       "      <td>25.3</td>\n",
       "    </tr>\n",
       "    <tr>\n",
       "      <th>886973</th>\n",
       "      <td>Europe</td>\n",
       "      <td>Russia</td>\n",
       "      <td>NaN</td>\n",
       "      <td>Moscow</td>\n",
       "      <td>11</td>\n",
       "      <td>12</td>\n",
       "      <td>2018</td>\n",
       "      <td>21.5</td>\n",
       "    </tr>\n",
       "    <tr>\n",
       "      <th>886974</th>\n",
       "      <td>Europe</td>\n",
       "      <td>Russia</td>\n",
       "      <td>NaN</td>\n",
       "      <td>Moscow</td>\n",
       "      <td>11</td>\n",
       "      <td>13</td>\n",
       "      <td>2018</td>\n",
       "      <td>22.6</td>\n",
       "    </tr>\n",
       "    <tr>\n",
       "      <th>886975</th>\n",
       "      <td>Europe</td>\n",
       "      <td>Russia</td>\n",
       "      <td>NaN</td>\n",
       "      <td>Moscow</td>\n",
       "      <td>11</td>\n",
       "      <td>14</td>\n",
       "      <td>2018</td>\n",
       "      <td>-99.0</td>\n",
       "    </tr>\n",
       "    <tr>\n",
       "      <th>886976</th>\n",
       "      <td>Europe</td>\n",
       "      <td>Russia</td>\n",
       "      <td>NaN</td>\n",
       "      <td>Moscow</td>\n",
       "      <td>11</td>\n",
       "      <td>15</td>\n",
       "      <td>2018</td>\n",
       "      <td>-99.0</td>\n",
       "    </tr>\n",
       "    <tr>\n",
       "      <th>886977</th>\n",
       "      <td>Europe</td>\n",
       "      <td>Russia</td>\n",
       "      <td>NaN</td>\n",
       "      <td>Moscow</td>\n",
       "      <td>11</td>\n",
       "      <td>16</td>\n",
       "      <td>2018</td>\n",
       "      <td>27.1</td>\n",
       "    </tr>\n",
       "    <tr>\n",
       "      <th>886978</th>\n",
       "      <td>Europe</td>\n",
       "      <td>Russia</td>\n",
       "      <td>NaN</td>\n",
       "      <td>Moscow</td>\n",
       "      <td>11</td>\n",
       "      <td>17</td>\n",
       "      <td>2018</td>\n",
       "      <td>-99.0</td>\n",
       "    </tr>\n",
       "    <tr>\n",
       "      <th>886979</th>\n",
       "      <td>Europe</td>\n",
       "      <td>Russia</td>\n",
       "      <td>NaN</td>\n",
       "      <td>Moscow</td>\n",
       "      <td>11</td>\n",
       "      <td>18</td>\n",
       "      <td>2018</td>\n",
       "      <td>32.6</td>\n",
       "    </tr>\n",
       "    <tr>\n",
       "      <th>886980</th>\n",
       "      <td>Europe</td>\n",
       "      <td>Russia</td>\n",
       "      <td>NaN</td>\n",
       "      <td>Moscow</td>\n",
       "      <td>11</td>\n",
       "      <td>19</td>\n",
       "      <td>2018</td>\n",
       "      <td>32.6</td>\n",
       "    </tr>\n",
       "    <tr>\n",
       "      <th>886981</th>\n",
       "      <td>Europe</td>\n",
       "      <td>Russia</td>\n",
       "      <td>NaN</td>\n",
       "      <td>Moscow</td>\n",
       "      <td>11</td>\n",
       "      <td>20</td>\n",
       "      <td>2018</td>\n",
       "      <td>24.9</td>\n",
       "    </tr>\n",
       "    <tr>\n",
       "      <th>886982</th>\n",
       "      <td>Europe</td>\n",
       "      <td>Russia</td>\n",
       "      <td>NaN</td>\n",
       "      <td>Moscow</td>\n",
       "      <td>11</td>\n",
       "      <td>21</td>\n",
       "      <td>2018</td>\n",
       "      <td>28.7</td>\n",
       "    </tr>\n",
       "    <tr>\n",
       "      <th>886983</th>\n",
       "      <td>Europe</td>\n",
       "      <td>Russia</td>\n",
       "      <td>NaN</td>\n",
       "      <td>Moscow</td>\n",
       "      <td>11</td>\n",
       "      <td>22</td>\n",
       "      <td>2018</td>\n",
       "      <td>29.3</td>\n",
       "    </tr>\n",
       "    <tr>\n",
       "      <th>886984</th>\n",
       "      <td>Europe</td>\n",
       "      <td>Russia</td>\n",
       "      <td>NaN</td>\n",
       "      <td>Moscow</td>\n",
       "      <td>11</td>\n",
       "      <td>23</td>\n",
       "      <td>2018</td>\n",
       "      <td>27.6</td>\n",
       "    </tr>\n",
       "    <tr>\n",
       "      <th>886985</th>\n",
       "      <td>Europe</td>\n",
       "      <td>Russia</td>\n",
       "      <td>NaN</td>\n",
       "      <td>Moscow</td>\n",
       "      <td>11</td>\n",
       "      <td>24</td>\n",
       "      <td>2018</td>\n",
       "      <td>28.2</td>\n",
       "    </tr>\n",
       "    <tr>\n",
       "      <th>886986</th>\n",
       "      <td>Europe</td>\n",
       "      <td>Russia</td>\n",
       "      <td>NaN</td>\n",
       "      <td>Moscow</td>\n",
       "      <td>11</td>\n",
       "      <td>25</td>\n",
       "      <td>2018</td>\n",
       "      <td>26.8</td>\n",
       "    </tr>\n",
       "    <tr>\n",
       "      <th>886987</th>\n",
       "      <td>Europe</td>\n",
       "      <td>Russia</td>\n",
       "      <td>NaN</td>\n",
       "      <td>Moscow</td>\n",
       "      <td>11</td>\n",
       "      <td>26</td>\n",
       "      <td>2018</td>\n",
       "      <td>26.4</td>\n",
       "    </tr>\n",
       "    <tr>\n",
       "      <th>886988</th>\n",
       "      <td>Europe</td>\n",
       "      <td>Russia</td>\n",
       "      <td>NaN</td>\n",
       "      <td>Moscow</td>\n",
       "      <td>11</td>\n",
       "      <td>27</td>\n",
       "      <td>2018</td>\n",
       "      <td>23.4</td>\n",
       "    </tr>\n",
       "    <tr>\n",
       "      <th>886989</th>\n",
       "      <td>Europe</td>\n",
       "      <td>Russia</td>\n",
       "      <td>NaN</td>\n",
       "      <td>Moscow</td>\n",
       "      <td>11</td>\n",
       "      <td>28</td>\n",
       "      <td>2018</td>\n",
       "      <td>18.7</td>\n",
       "    </tr>\n",
       "    <tr>\n",
       "      <th>886990</th>\n",
       "      <td>Europe</td>\n",
       "      <td>Russia</td>\n",
       "      <td>NaN</td>\n",
       "      <td>Moscow</td>\n",
       "      <td>11</td>\n",
       "      <td>29</td>\n",
       "      <td>2018</td>\n",
       "      <td>12.6</td>\n",
       "    </tr>\n",
       "    <tr>\n",
       "      <th>886991</th>\n",
       "      <td>Europe</td>\n",
       "      <td>Russia</td>\n",
       "      <td>NaN</td>\n",
       "      <td>Moscow</td>\n",
       "      <td>11</td>\n",
       "      <td>30</td>\n",
       "      <td>2018</td>\n",
       "      <td>8.7</td>\n",
       "    </tr>\n",
       "  </tbody>\n",
       "</table>\n",
       "</div>"
      ],
      "text/plain": [
       "        Region Country State    City  Month  Day  Year  AvgTemperature\n",
       "886962  Europe  Russia   NaN  Moscow     11    1  2018            37.6\n",
       "886963  Europe  Russia   NaN  Moscow     11    2  2018            42.1\n",
       "886964  Europe  Russia   NaN  Moscow     11    3  2018            45.6\n",
       "886965  Europe  Russia   NaN  Moscow     11    4  2018            42.4\n",
       "886966  Europe  Russia   NaN  Moscow     11    5  2018            35.4\n",
       "886967  Europe  Russia   NaN  Moscow     11    6  2018            35.7\n",
       "886968  Europe  Russia   NaN  Moscow     11    7  2018            34.1\n",
       "886969  Europe  Russia   NaN  Moscow     11    8  2018            35.6\n",
       "886970  Europe  Russia   NaN  Moscow     11    9  2018            35.1\n",
       "886971  Europe  Russia   NaN  Moscow     11   10  2018            34.5\n",
       "886972  Europe  Russia   NaN  Moscow     11   11  2018            25.3\n",
       "886973  Europe  Russia   NaN  Moscow     11   12  2018            21.5\n",
       "886974  Europe  Russia   NaN  Moscow     11   13  2018            22.6\n",
       "886975  Europe  Russia   NaN  Moscow     11   14  2018           -99.0\n",
       "886976  Europe  Russia   NaN  Moscow     11   15  2018           -99.0\n",
       "886977  Europe  Russia   NaN  Moscow     11   16  2018            27.1\n",
       "886978  Europe  Russia   NaN  Moscow     11   17  2018           -99.0\n",
       "886979  Europe  Russia   NaN  Moscow     11   18  2018            32.6\n",
       "886980  Europe  Russia   NaN  Moscow     11   19  2018            32.6\n",
       "886981  Europe  Russia   NaN  Moscow     11   20  2018            24.9\n",
       "886982  Europe  Russia   NaN  Moscow     11   21  2018            28.7\n",
       "886983  Europe  Russia   NaN  Moscow     11   22  2018            29.3\n",
       "886984  Europe  Russia   NaN  Moscow     11   23  2018            27.6\n",
       "886985  Europe  Russia   NaN  Moscow     11   24  2018            28.2\n",
       "886986  Europe  Russia   NaN  Moscow     11   25  2018            26.8\n",
       "886987  Europe  Russia   NaN  Moscow     11   26  2018            26.4\n",
       "886988  Europe  Russia   NaN  Moscow     11   27  2018            23.4\n",
       "886989  Europe  Russia   NaN  Moscow     11   28  2018            18.7\n",
       "886990  Europe  Russia   NaN  Moscow     11   29  2018            12.6\n",
       "886991  Europe  Russia   NaN  Moscow     11   30  2018             8.7"
      ]
     },
     "execution_count": 8,
     "metadata": {},
     "output_type": "execute_result"
    }
   ],
   "source": [
    "data"
   ]
  },
  {
   "cell_type": "markdown",
   "id": "4b0f47ca",
   "metadata": {},
   "source": [
    "Проанализируем температуру за 2018 год в городе Москва в ноябре месяце"
   ]
  },
  {
   "cell_type": "code",
   "execution_count": 9,
   "id": "524ac802",
   "metadata": {},
   "outputs": [],
   "source": [
    "import matplotlib.pyplot as plt"
   ]
  },
  {
   "cell_type": "code",
   "execution_count": 10,
   "id": "df3185da",
   "metadata": {},
   "outputs": [
    {
     "data": {
      "image/png": "[encoded data removed]",
      "text/plain": [
       "<Figure size 432x288 with 1 Axes>"
      ]
     },
     "metadata": {
      "needs_background": "light"
     },
     "output_type": "display_data"
    }
   ],
   "source": [
    "data.plot(x='Day', y='AvgTemperature')\n",
    "plt.show()"
   ]
  },
  {
   "cell_type": "code",
   "execution_count": 11,
   "id": "be67bec6",
   "metadata": {},
   "outputs": [
    {
     "data": {
      "text/plain": [
       "array([[<AxesSubplot:title={'center':'AvgTemperature'}>]], dtype=object)"
      ]
     },
     "execution_count": 11,
     "metadata": {},
     "output_type": "execute_result"
    },
    {
     "data": {
      "image/png": "[encoded data removed]",
      "text/plain": [
       "<Figure size 432x288 with 1 Axes>"
      ]
     },
     "metadata": {
      "needs_background": "light"
     },
     "output_type": "display_data"
    }
   ],
   "source": [
    "data.hist(column=\"AvgTemperature\", bins=40, density=True)\n"
   ]
  },
  {
   "cell_type": "code",
   "execution_count": 12,
   "id": "b79c0f26",
   "metadata": {},
   "outputs": [
    {
     "data": {
      "text/plain": [
       "<AxesSubplot:>"
      ]
     },
     "execution_count": 12,
     "metadata": {},
     "output_type": "execute_result"
    },
    {
     "data": {
      "image/png": "[encoded data removed]",
      "text/plain": [
       "<Figure size 432x288 with 1 Axes>"
      ]
     },
     "metadata": {
      "needs_background": "light"
     },
     "output_type": "display_data"
    }
   ],
   "source": [
    "data.boxplot(column=\"AvgTemperature\")\n"
   ]
  },
  {
   "cell_type": "markdown",
   "id": "0579b209",
   "metadata": {},
   "source": [
    "После анализа графиков можно сделаеть вывод о наличии в выборке выбросов. -99 градусов по фаренгейту встречается в дата сете дважды и не является корректным и реальным значеним температуры."
   ]
  },
  {
   "cell_type": "markdown",
   "id": "411e15c0",
   "metadata": {},
   "source": [
    "Таким образом, можно предположить, что график распределения соответствующей величины имеет нормальный закон распределения.\n"
   ]
  },
  {
   "cell_type": "code",
   "execution_count": 13,
   "id": "346583fe",
   "metadata": {},
   "outputs": [],
   "source": [
    "ma = data.AvgTemperature.values"
   ]
  },
  {
   "cell_type": "code",
   "execution_count": 14,
   "id": "ca4e94bf",
   "metadata": {},
   "outputs": [
    {
     "data": {
      "text/plain": [
       "array([ 37.6,  42.1,  45.6,  42.4,  35.4,  35.7,  34.1,  35.6,  35.1,\n",
       "        34.5,  25.3,  21.5,  22.6, -99. , -99. ,  27.1, -99. ,  32.6,\n",
       "        32.6,  24.9,  28.7,  29.3,  27.6,  28.2,  26.8,  26.4,  23.4,\n",
       "        18.7,  12.6,   8.7])"
      ]
     },
     "execution_count": 14,
     "metadata": {},
     "output_type": "execute_result"
    }
   ],
   "source": [
    "ma"
   ]
  },
  {
   "cell_type": "markdown",
   "id": "e81df597",
   "metadata": {},
   "source": [
    "Найдем медиану выборки"
   ]
  },
  {
   "cell_type": "code",
   "execution_count": 17,
   "id": "438e4cb5",
   "metadata": {},
   "outputs": [],
   "source": [
    "import statistics"
   ]
  },
  {
   "cell_type": "code",
   "execution_count": 18,
   "id": "615c693f",
   "metadata": {},
   "outputs": [
    {
     "data": {
      "text/plain": [
       "27.9"
      ]
     },
     "execution_count": 18,
     "metadata": {},
     "output_type": "execute_result"
    }
   ],
   "source": [
    "statistics.median(ma)"
   ]
  },
  {
   "cell_type": "code",
   "execution_count": 19,
   "id": "4fedac26",
   "metadata": {},
   "outputs": [],
   "source": [
    "import scipy.stats as sps\n"
   ]
  },
  {
   "cell_type": "markdown",
   "id": "097ea5b6",
   "metadata": {},
   "source": [
    "Найдем дисперсию"
   ]
  },
  {
   "cell_type": "code",
   "execution_count": 22,
   "id": "9efc381a",
   "metadata": {},
   "outputs": [
    {
     "data": {
      "text/plain": [
       "1548.512322222222"
      ]
     },
     "execution_count": 22,
     "metadata": {},
     "output_type": "execute_result"
    }
   ],
   "source": [
    "np.var(ma)"
   ]
  },
  {
   "cell_type": "markdown",
   "id": "a6ef5480",
   "metadata": {},
   "source": [
    "Найдем среднеквадратичное (стандартное) отклонение"
   ]
  },
  {
   "cell_type": "code",
   "execution_count": 24,
   "id": "7218d915",
   "metadata": {},
   "outputs": [
    {
     "data": {
      "text/plain": [
       "39.35114130774636"
      ]
     },
     "execution_count": 24,
     "metadata": {},
     "output_type": "execute_result"
    }
   ],
   "source": [
    "np.std(ma)"
   ]
  },
  {
   "cell_type": "code",
   "execution_count": 25,
   "id": "d2632452",
   "metadata": {},
   "outputs": [
    {
     "data": {
      "text/plain": [
       "array([[<AxesSubplot:title={'center':'AvgTemperature'}>]], dtype=object)"
      ]
     },
     "execution_count": 25,
     "metadata": {},
     "output_type": "execute_result"
    },
    {
     "data": {
      "image/png": "[encoded data removed]",
      "text/plain": [
       "<Figure size 432x288 with 1 Axes>"
      ]
     },
     "metadata": {
      "needs_background": "light"
     },
     "output_type": "display_data"
    }
   ],
   "source": [
    "data.hist(column=\"AvgTemperature\", bins=20, density=True)"
   ]
  },
  {
   "cell_type": "code",
   "execution_count": 26,
   "id": "a6069f5f",
   "metadata": {},
   "outputs": [
    {
     "data": {
      "text/plain": [
       "array([[<AxesSubplot:title={'center':'AvgTemperature'}>]], dtype=object)"
      ]
     },
     "execution_count": 26,
     "metadata": {},
     "output_type": "execute_result"
    },
    {
     "data": {
      "image/png": "[encoded data removed]",
      "text/plain": [
       "<Figure size 432x288 with 1 Axes>"
      ]
     },
     "metadata": {
      "needs_background": "light"
     },
     "output_type": "display_data"
    }
   ],
   "source": [
    "data.hist(column=\"AvgTemperature\", bins=10, density=True)"
   ]
  },
  {
   "cell_type": "code",
   "execution_count": null,
   "id": "98731fb0",
   "metadata": {},
   "outputs": [],
   "source": []
  }
 ],
 "metadata": {
  "kernelspec": {
   "display_name": "Python 3 (ipykernel)",
   "language": "python",
   "name": "python3"
  },
  "language_info": {
   "codemirror_mode": {
    "name": "ipython",
    "version": 3
   },
   "file_extension": ".py",
   "mimetype": "text/x-python",
   "name": "python",
   "nbconvert_exporter": "python",
   "pygments_lexer": "ipython3",
   "version": "3.8.11"
  }
 },
 "nbformat": 4,
 "nbformat_minor": 5
}
