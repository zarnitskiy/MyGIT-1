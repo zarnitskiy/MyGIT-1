{
  "nbformat": 4,
  "nbformat_minor": 0,
  "metadata": {
    "colab": {
      "provenance": [],
      "collapsed_sections": [
        "yYOKDF32sfIN"
      ]
    },
    "kernelspec": {
      "name": "python3",
      "display_name": "Python 3"
    },
    "language_info": {
      "name": "python"
    }
  },
  "cells": [
    {
      "cell_type": "code",
      "source": [
        "import warnings"
      ],
      "metadata": {
        "id": "dtYJvExRtjaf"
      },
      "execution_count": 43,
      "outputs": []
    },
    {
      "cell_type": "code",
      "source": [
        "import numpy as np\n"
      ],
      "metadata": {
        "id": "QJVL3tXyEzBG"
      },
      "execution_count": 44,
      "outputs": []
    },
    {
      "cell_type": "code",
      "source": [
        "class OptimizeResult(dict):\n",
        "    def __getattr__(self, name):\n",
        "        try:\n",
        "            return self[name]\n",
        "        except KeyError:\n",
        "            raise AttributeError(name)\n",
        "    __setattr__ = dict.__setitem__\n",
        "    __delattr__ = dict.__delitem__\n",
        "    def __repr__(self):\n",
        "        if self.keys():\n",
        "            m = max(map(len, list(self.keys()))) + 1\n",
        "            return '\\n'.join([k.rjust(m) + ': ' + repr(v)\n",
        "                              for k, v in self.items()])\n",
        "        else:\n",
        "            return self.__class__.__name__ + \"()\""
      ],
      "metadata": {
        "id": "J4X9XRR1ISA9"
      },
      "execution_count": 45,
      "outputs": []
    },
    {
      "cell_type": "code",
      "source": [
        "class OptimizeWarning(UserWarning):\n",
        "    pass\n",
        "def _check_unknown_options(unknown_options):\n",
        "    if unknown_options:\n",
        "        msg = \", \".join(map(str, unknown_options.keys()))\n",
        "        warnings.warn(\"Unknown solver options: %s\" % msg, OptimizeWarning, 4)"
      ],
      "metadata": {
        "id": "htP-5lzTFDPz"
      },
      "execution_count": 46,
      "outputs": []
    },
    {
      "cell_type": "code",
      "source": [
        "def _pivot_col(T, tol=1.0E-12, bland=False):\n",
        "    ma = np.ma.masked_where(T[-1, :-1] >= -tol, T[-1, :-1], copy=False)\n",
        "    if ma.count() == 0:\n",
        "        return False, np.nan\n",
        "    if bland:\n",
        "        return True, np.where(ma.mask == False)[0][0]\n",
        "    return True, np.ma.where(ma == ma.min())[0][0]\n",
        "def _pivot_row(T, pivcol, phase, tol=1.0E-12):\n",
        "    if phase == 1:\n",
        "        k = 2\n",
        "    else:\n",
        "        k = 1\n",
        "    ma = np.ma.masked_where(T[:-k, pivcol] <= tol, T[:-k, pivcol], copy=False)\n",
        "    if ma.count() == 0:\n",
        "        return False, np.nan\n",
        "    mb = np.ma.masked_where(T[:-k, pivcol] <= tol, T[:-k, -1], copy=False)\n",
        "    q = mb / ma\n",
        "    return True, np.ma.where(q == q.min())[0][0]"
      ],
      "metadata": {
        "id": "Gf1X8CzFF1PS"
      },
      "execution_count": 47,
      "outputs": []
    },
    {
      "cell_type": "code",
      "source": [
        "def _solve_simplex(T, n, basis, maxiter=1000, phase=2, callback=None,\n",
        "                   tol=1.0E-12, nit0=0, bland=False):\n",
        "    \n",
        "    nit = nit0\n",
        "    complete = False\n",
        "    solution = np.zeros(T.shape[1]-1, dtype=np.float64)\n",
        "\n",
        "    if phase == 1:\n",
        "        m = T.shape[0]-2\n",
        "    elif phase == 2:\n",
        "        m = T.shape[0]-1\n",
        "    else:\n",
        "        raise ValueError(\"Argument 'phase' to _solve_simplex must be 1 or 2\")\n",
        "\n",
        "    while not complete:\n",
        "        pivcol_found, pivcol = _pivot_col(T, tol, bland)\n",
        "        if not pivcol_found:\n",
        "            pivcol = np.nan\n",
        "            pivrow = np.nan\n",
        "            status = 0\n",
        "            complete = True\n",
        "        else:\n",
        "            pivrow_found, pivrow = _pivot_row(T, pivcol, phase, tol)\n",
        "            if not pivrow_found:\n",
        "                status = 3\n",
        "                complete = True\n",
        "\n",
        "        if not complete:\n",
        "            if nit >= maxiter:\n",
        "                status = 1\n",
        "                complete = True\n",
        "            else:\n",
        "                basis[pivrow] = pivcol\n",
        "                pivval = T[pivrow][pivcol]\n",
        "                T[pivrow, :] = T[pivrow, :] / pivval\n",
        "                for irow in range(T.shape[0]):\n",
        "                    if irow != pivrow:\n",
        "                        T[irow, :] = T[irow, :] - T[pivrow, :]*T[irow, pivcol]\n",
        "                nit += 1\n",
        "\n",
        "    return nit, status"
      ],
      "metadata": {
        "id": "A5BWjTUHFZ1t"
      },
      "execution_count": 48,
      "outputs": []
    },
    {
      "cell_type": "code",
      "source": [
        "_count_nonzero = np.count_nonzero"
      ],
      "metadata": {
        "id": "x5Bkmv1KExn1"
      },
      "execution_count": 49,
      "outputs": []
    },
    {
      "cell_type": "code",
      "source": [
        "def _linprog_simplex(c, A_ub=None, b_ub=None, A_eq=None, b_eq=None,\n",
        "            bounds=None, maxiter=1000, disp=False, callback=None,\n",
        "            tol=1.0E-12, bland=False, **unknown_options):\n",
        "    \n",
        "    _check_unknown_options(unknown_options)\n",
        "\n",
        "    status = 0\n",
        "    messages = {0: \"Optimization terminated successfully.\",\n",
        "                1: \"Iteration limit reached.\",\n",
        "                2: \"Optimzation failed. Unable to find a feasible\"\n",
        "                   \" starting point.\",\n",
        "                3: \"Optimization failed. The problem appears to be unbounded.\",\n",
        "                4: \"Optimization failed. Singular matrix encountered.\"}\n",
        "    have_floor_variable = False\n",
        "\n",
        "    cc = np.asarray(c)\n",
        "\n",
        "    f0 = 0\n",
        "\n",
        "    n = len(c)\n",
        "\n",
        "    Aeq = np.asarray(A_eq) if A_eq is not None else np.empty([0, len(cc)])\n",
        "    Aub = np.asarray(A_ub) if A_ub is not None else np.empty([0, len(cc)])\n",
        "    beq = np.ravel(np.asarray(b_eq)) if b_eq is not None else np.empty([0])\n",
        "    bub = np.ravel(np.asarray(b_ub)) if b_ub is not None else np.empty([0])\n",
        "\n",
        "    L = np.zeros(n, dtype=np.float64)\n",
        "    U = np.ones(n, dtype=np.float64)*np.inf\n",
        "    if bounds is None or len(bounds) == 0:\n",
        "        pass\n",
        "    elif len(bounds) == 2 and not hasattr(bounds[0], '__len__'):\n",
        "        L = np.asarray(n*[bounds[0]], dtype=np.float64)\n",
        "        U = np.asarray(n*[bounds[1]], dtype=np.float64)\n",
        "    else:\n",
        "        if len(bounds) != n:\n",
        "            status = -1\n",
        "            message = (\"Invalid input for linprog with method = 'simplex'.  \"\n",
        "                      \"Length of bounds is inconsistent with the length of c\")\n",
        "        else:\n",
        "            try:\n",
        "                for i in range(n):\n",
        "                    if len(bounds[i]) != 2:\n",
        "                        raise IndexError()\n",
        "                    L[i] = bounds[i][0] if bounds[i][0] is not None else -np.inf\n",
        "                    U[i] = bounds[i][1] if bounds[i][1] is not None else np.inf\n",
        "            except IndexError:\n",
        "                status = -1\n",
        "                message = (\"Invalid input for linprog with \"\n",
        "                           \"method = 'simplex'.  bounds must be a n x 2 \"\n",
        "                           \"sequence/array where n = len(c).\")\n",
        "\n",
        "    if np.any(L == -np.inf):\n",
        "\n",
        "        n = n + 1\n",
        "        L = np.concatenate([np.array([0]), L])\n",
        "        U = np.concatenate([np.array([np.inf]), U])\n",
        "        cc = np.concatenate([np.array([0]), cc])\n",
        "        Aeq = np.hstack([np.zeros([Aeq.shape[0], 1]), Aeq])\n",
        "        Aub = np.hstack([np.zeros([Aub.shape[0], 1]), Aub])\n",
        "        have_floor_variable = True\n",
        "\n",
        "\n",
        "    for i in range(n):\n",
        "        if(L[i] > U[i]):\n",
        "            status = -1\n",
        "            message = (\"Invalid input for linprog with method = 'simplex'.  \"\n",
        "                       \"Lower bound %d is greater than upper bound %d\" % (i, i))\n",
        "\n",
        "        if np.isinf(L[i]) and L[i] > 0:\n",
        "            status = -1\n",
        "            message = (\"Invalid input for linprog with method = 'simplex'.  \"\n",
        "                       \"Lower bound may not be +infinity\")\n",
        "\n",
        "        if np.isinf(U[i]) and U[i] < 0:\n",
        "            status = -1\n",
        "            message = (\"Invalid input for linprog with method = 'simplex'.  \"\n",
        "                       \"Upper bound may not be -infinity\")\n",
        "\n",
        "        if np.isfinite(L[i]) and L[i] > 0:\n",
        "            Aub = np.vstack([Aub, np.zeros(n)])\n",
        "            Aub[-1, i] = -1\n",
        "            bub = np.concatenate([bub, np.array([-L[i]])])\n",
        "            L[i] = 0\n",
        "\n",
        "        if np.isfinite(U[i]):\n",
        "            Aub = np.vstack([Aub, np.zeros(n)])\n",
        "            Aub[-1, i] = 1\n",
        "            bub = np.concatenate([bub, np.array([U[i]])])\n",
        "            U[i] = np.inf\n",
        "\n",
        "    for i in range(0, n):\n",
        "        if L[i] < 0:\n",
        "            if np.isfinite(L[i]) and L[i] < 0:\n",
        "\n",
        "                beq[:] = beq[:] - Aeq[:, i] * L[i]\n",
        "                bub[:] = bub[:] - Aub[:, i] * L[i]\n",
        "                f0 = f0 - cc[i] * L[i]\n",
        "            else:\n",
        "\n",
        "                Aeq[:, 0] = Aeq[:, 0] - Aeq[:, i]\n",
        "                Aub[:, 0] = Aub[:, 0] - Aub[:, i]\n",
        "                cc[0] = cc[0] - cc[i]\n",
        "\n",
        "        if np.isinf(U[i]):\n",
        "            if U[i] < 0:\n",
        "                status = -1\n",
        "                message = (\"Invalid input for linprog with \"\n",
        "                           \"method = 'simplex'.  Upper bound may not be -inf.\")\n",
        "\n",
        "    mub = len(bub)\n",
        "\n",
        "    meq = len(beq)\n",
        "\n",
        "    m = mub+meq\n",
        "\n",
        "    n_slack = mub\n",
        "\n",
        "    n_artificial = meq + _count_nonzero(bub < 0)\n",
        "\n",
        "    try:\n",
        "        Aub_rows, Aub_cols = Aub.shape\n",
        "    except ValueError:\n",
        "        raise ValueError(\"Invalid input.  A_ub must be two-dimensional\")\n",
        "\n",
        "    try:\n",
        "        Aeq_rows, Aeq_cols = Aeq.shape\n",
        "    except ValueError:\n",
        "        raise ValueError(\"Invalid input.  A_eq must be two-dimensional\")\n",
        "\n",
        "    if Aeq_rows != meq:\n",
        "        status = -1\n",
        "        message = (\"Invalid input for linprog with method = 'simplex'.  \"\n",
        "                   \"The number of rows in A_eq must be equal \"\n",
        "                   \"to the number of values in b_eq\")\n",
        "\n",
        "    if Aub_rows != mub:\n",
        "        status = -1\n",
        "        message = (\"Invalid input for linprog with method = 'simplex'.  \"\n",
        "                   \"The number of rows in A_ub must be equal \"\n",
        "                   \"to the number of values in b_ub\")\n",
        "\n",
        "    if Aeq_cols > 0 and Aeq_cols != n:\n",
        "        status = -1\n",
        "        message = (\"Invalid input for linprog with method = 'simplex'.  \"\n",
        "                   \"Number of columns in A_eq must be equal \"\n",
        "                   \"to the size of c\")\n",
        "\n",
        "    if Aub_cols > 0 and Aub_cols != n:\n",
        "        status = -1\n",
        "        message = (\"Invalid input for linprog with method = 'simplex'.  \"\n",
        "                   \"Number of columns in A_ub must be equal to the size of c\")\n",
        "\n",
        "    if status != 0:\n",
        "        # Ошибка\n",
        "        raise ValueError(message)\n",
        "\n",
        "    # Создаем таблицу\n",
        "    T = np.zeros([m+2, n+n_slack+n_artificial+1])\n",
        "\n",
        "    T[-2, :n] = cc\n",
        "    T[-2, -1] = f0\n",
        "\n",
        "    b = T[:-2, -1]\n",
        "\n",
        "    if meq > 0:\n",
        "        T[:meq, :n] = Aeq\n",
        "        b[:meq] = beq\n",
        "    if mub > 0:\n",
        "        T[meq:meq+mub, :n] = Aub\n",
        "        b[meq:meq+mub] = bub\n",
        "        np.fill_diagonal(T[meq:m, n:n+n_slack], 1)\n",
        "\n",
        "    slcount = 0\n",
        "    avcount = 0\n",
        "    basis = np.zeros(m, dtype=int)\n",
        "    r_artificial = np.zeros(n_artificial, dtype=int)\n",
        "    for i in range(m):\n",
        "        if i < meq or b[i] < 0:\n",
        "            basis[i] = n+n_slack+avcount\n",
        "            r_artificial[avcount] = i\n",
        "            avcount += 1\n",
        "            if b[i] < 0:\n",
        "                b[i] *= -1\n",
        "                T[i, :-1] *= -1\n",
        "            T[i, basis[i]] = 1\n",
        "            T[-1, basis[i]] = 1\n",
        "        else:\n",
        "            basis[i] = n+slcount\n",
        "            slcount += 1\n",
        "\n",
        "    for r in r_artificial:\n",
        "        T[-1, :] = T[-1, :] - T[r, :]\n",
        "\n",
        "    nit1, status = _solve_simplex(T, n, basis, phase=1, callback=callback,\n",
        "                                  maxiter=maxiter, tol=tol, bland=bland)\n",
        "\n",
        "    if abs(T[-1, -1]) < tol:\n",
        "        T = T[:-1, :]\n",
        "        T = np.delete(T, np.s_[n+n_slack:n+n_slack+n_artificial], 1)\n",
        "    else:\n",
        "        status = 2\n",
        "\n",
        "    if status != 0:\n",
        "        message = messages[status]\n",
        "        if disp:\n",
        "            print(message)\n",
        "        return OptimizeResult(x=np.nan, fun=-T[-1, -1], nit=nit1, status=status,\n",
        "                      message=message, success=False)\n",
        "\n",
        "    nit2, status = _solve_simplex(T, n, basis, maxiter=maxiter-nit1, phase=2,\n",
        "                                  callback=callback, tol=tol, nit0=nit1,\n",
        "                                  bland=bland)\n",
        "\n",
        "    solution = np.zeros(n+n_slack+n_artificial)\n",
        "    solution[basis[:m]] = T[:m, -1]\n",
        "    x = solution[:n]\n",
        "    slack = solution[n:n+n_slack]\n",
        "\n",
        "    masked_L = np.ma.array(L, mask=np.isinf(L), fill_value=0.0).filled()\n",
        "    x = x + masked_L\n",
        "    if have_floor_variable:\n",
        "        for i in range(1, n):\n",
        "            if np.isinf(L[i]):\n",
        "                x[i] -= x[0]\n",
        "        x = x[1:]\n",
        "\n",
        "    obj = -T[-1, -1]\n",
        "\n",
        "    return OptimizeResult(x=x, fun=obj, nit=int(nit2), status=status, slack=slack,\n",
        "                  message=messages[status], success=(status == 0))"
      ],
      "metadata": {
        "id": "OjTH_l_RDsDe"
      },
      "execution_count": 50,
      "outputs": []
    },
    {
      "cell_type": "code",
      "source": [
        "\n",
        "U = np.array([8, 7])\n",
        "A = [[4, 3], [2, 1], [2, 3]]\n",
        "b = [144, 64, 120]\n",
        "res = _linprog_simplex(-U, A, b, bounds=(0, np.inf))\n",
        "print(res)"
      ],
      "metadata": {
        "colab": {
          "base_uri": "https://localhost:8080/"
        },
        "id": "p1xNsaylsWH9",
        "outputId": "58dc5729-a9f6-4695-8747-a26910f912a9"
      },
      "execution_count": 51,
      "outputs": [
        {
          "output_type": "stream",
          "name": "stdout",
          "text": [
            "       x: array([12., 32.])\n",
            "     fun: -320.0\n",
            "     nit: 3\n",
            "  status: 0\n",
            "   slack: array([0., 8., 0.])\n",
            " message: 'Optimization terminated successfully.'\n",
            " success: True\n"
          ]
        }
      ]
    },
    {
      "cell_type": "code",
      "source": [
        "U = np.array([-34, -24])\n",
        "A = [[4, 3], [2, 1], [2, 3]]\n",
        "b = [144, 64, 120]\n",
        "res2 = _linprog_simplex(U, A, b, bounds=(0, np.inf))\n",
        "print(res2)"
      ],
      "metadata": {
        "colab": {
          "base_uri": "https://localhost:8080/"
        },
        "id": "bhuLaAwmInPU",
        "outputId": "b8295444-2b60-4030-b406-f15e41d9add2"
      },
      "execution_count": 52,
      "outputs": [
        {
          "output_type": "stream",
          "name": "stdout",
          "text": [
            "       x: array([24., 16.])\n",
            "     fun: -1200.0\n",
            "     nit: 2\n",
            "  status: 0\n",
            "   slack: array([ 0.,  0., 24.])\n",
            " message: 'Optimization terminated successfully.'\n",
            " success: True\n"
          ]
        }
      ]
    },
    {
      "cell_type": "code",
      "source": [
        "U2 = np.array([-34, -24])\n",
        "A = [[4, 3], [2, 1], [2, 3], [-8, -7]]\n",
        "b = [144, 64, 120, -312]\n",
        "res3 = _linprog_simplex(U2, A, b, bounds=(0, np.inf))\n",
        "print(res3)"
      ],
      "metadata": {
        "colab": {
          "base_uri": "https://localhost:8080/"
        },
        "id": "stuZRDZWsu2D",
        "outputId": "076aed28-62a2-413d-9b60-10501c21221b"
      },
      "execution_count": 53,
      "outputs": [
        {
          "output_type": "stream",
          "name": "stdout",
          "text": [
            "       x: array([18., 24.])\n",
            "     fun: -1188.0\n",
            "     nit: 3\n",
            "  status: 0\n",
            "   slack: array([ 0.,  4., 12.,  0.])\n",
            " message: 'Optimization terminated successfully.'\n",
            " success: True\n"
          ]
        }
      ]
    }
  ]
}