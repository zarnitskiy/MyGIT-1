{
  "nbformat": 4,
  "nbformat_minor": 0,
  "metadata": {
    "colab": {
      "provenance": [],
      "collapsed_sections": []
    },
    "kernelspec": {
      "name": "python3",
      "display_name": "Python 3"
    },
    "language_info": {
      "name": "python"
    }
  },
  "cells": [
    {
      "cell_type": "code",
      "execution_count": 1,
      "metadata": {
        "id": "fF7wC6U7twiH"
      },
      "outputs": [],
      "source": [
        "import numpy as np"
      ]
    },
    {
      "cell_type": "code",
      "source": [
        "def vald(A : np.array):\n",
        "    #Критерий Вальда\n",
        "    v = np.min(A, axis=1)\n",
        "    return np.argmax(v) + 1\n",
        "def laplace(A):\n",
        "    #Критерий Лапласа\n",
        "    v = np.mean(A, axis=1)\n",
        "    return np.argmax(v) + 1\n",
        "def bayes(A, p):\n",
        "    #Критерий Байеса\n",
        "    v = [np.sum(p*A[i]) for i in range(A.shape[0])]\n",
        "    return np.argmax(v) + 1\n",
        "def gurvitce(A, alpha = 0.5):\n",
        "    #Критерий Гурвица\n",
        "    v = (1 - alpha) * np.max(A, axis=1) + alpha * np.min(A, axis=1)\n",
        "    return np.argmax(v) + 1\n",
        "def sevidge(A):\n",
        "    #Критерий Севиджа\n",
        "    r = np.max(A, axis=0) - A\n",
        "    v = - np.max(r, axis=1)\n",
        "    return np.argmax(v) + 1    "
      ],
      "metadata": {
        "id": "7oAlWcjTt4t7"
      },
      "execution_count": 4,
      "outputs": []
    },
    {
      "cell_type": "code",
      "source": [
        "A = np.array([[44, 6, 16, 23.2],\n",
        "              [60, 76, 15.5, 12],\n",
        "              [25.5, 34, 45, 60.3]])\n",
        "JS = np.array([0.2, 0.3, 0.5, 0.1])\n",
        "gur_coef = 0.6\n",
        "res = [vald(A), laplace(A), sevidge(A), gurvitce(A, alpha = gur_coef), bayes(A, p=[1, 1, 1, 1])]\n",
        "name = ['Вальда','Лапласа','Севиджа','Гурвитца','Байеса']\n",
        "for k,v in zip(res,name):\n",
        "  print(f'Оптимальная стратегия по критерию {v}: {k}')\n"
      ],
      "metadata": {
        "colab": {
          "base_uri": "https://localhost:8080/"
        },
        "id": "Th5peWKluNnX",
        "outputId": "39218ead-fb69-405f-8998-51abd1f6e3d7"
      },
      "execution_count": 5,
      "outputs": [
        {
          "output_type": "stream",
          "name": "stdout",
          "text": [
            "Оптимальная стратегия по критерию Вальда: 3\n",
            "Оптимальная стратегия по критерию Лапласа: 3\n",
            "Оптимальная стратегия по критерию Севиджа: 3\n",
            "Оптимальная стратегия по критерию Гурвитца: 3\n",
            "Оптимальная стратегия по критерию Байеса: 3\n"
          ]
        }
      ]
    }
  ]
}