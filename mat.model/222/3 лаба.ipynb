{
  "nbformat": 4,
  "nbformat_minor": 0,
  "metadata": {
    "colab": {
      "provenance": [],
      "collapsed_sections": []
    },
    "kernelspec": {
      "name": "python3",
      "display_name": "Python 3"
    },
    "language_info": {
      "name": "python"
    }
  },
  "cells": [
    {
      "cell_type": "code",
      "execution_count": 1,
      "metadata": {
        "id": "wVBlN_s5nnH7"
      },
      "outputs": [],
      "source": [
        "import numpy as np\n",
        "from scipy.optimize import linprog"
      ]
    },
    {
      "cell_type": "code",
      "source": [
        "def _game(A: np.array): \n",
        "    n, m = np.array(A).shape  \n",
        "    p, q = [], []\n",
        "    I = None\n",
        "    max_min = np.max(np.min(A, axis=1))\n",
        "    min_max = np.min(np.max(A, axis=0))\n",
        "    if max_min == min_max:\n",
        "        p = np.argmax(np.min(A, axis=1))\n",
        "        q = np.argmin(np.max(A, axis=0))\n",
        "        I = min_max\n",
        "        return [p, q, I]\n",
        "    alpha = np.min(A)\n",
        "    if not alpha > 0:\n",
        "        A = A + abs(alpha) + 1\n",
        "    W1, W2 = np.ones(n), np.ones(m)\n",
        "    b_1 = np.ones(m)\n",
        "    b_2 = np.ones(n)\n",
        "    A_T = A.T\n",
        "    u_list = linprog(c=W1, A_ub=A_T * (-1), b_ub=b_1 * (-1), method=\"simplex\")['x']\n",
        "    v_list = linprog(c=W2 * (-1), A_ub=A, b_ub=b_2, method=\"simplex\")['x']\n",
        "    I1 = round(1 / np.sum(u_list), 6)\n",
        "    I2 = round(1 / np.sum(v_list), 6)\n",
        "    if I1 == I2:\n",
        "        p = [round(u * I1, 6) for u in u_list]\n",
        "        q = [round(v * I2, 6) for v in v_list]\n",
        "        I = I1 - alpha\n",
        "    return [p, q, I]\n",
        "def show(p, q, I):  \n",
        "    print(\"Оптимальная стратегия для первого игрока:\", p)\n",
        "    print(\"Оптимальная стратегия для второго игрока:\", q)\n",
        "    print(\"Цена игры I:\", I)\n",
        "\n"
      ],
      "metadata": {
        "id": "29lMVhAJnqV1"
      },
      "execution_count": 2,
      "outputs": []
    },
    {
      "cell_type": "code",
      "source": [
        "matrix_a = np.array([[1, 4, 8],\n",
        "                      [-1, 4, -3],\n",
        "                      [0, -3, 3]])\n",
        "matrix_b = np.array([[-3, 4, 5, 5],\n",
        "                      [-2, 4, -3, 0],\n",
        "                      [5, 3, 1, -2]])"
      ],
      "metadata": {
        "id": "dCAEHAWVojjo"
      },
      "execution_count": 7,
      "outputs": []
    },
    {
      "cell_type": "code",
      "source": [
        "show(*_game(matrix_b))"
      ],
      "metadata": {
        "colab": {
          "base_uri": "https://localhost:8080/"
        },
        "id": "0RcfrMrJpOzj",
        "outputId": "1151fee8-77d5-48e8-d04c-b14efb5ca625"
      },
      "execution_count": 6,
      "outputs": [
        {
          "output_type": "stream",
          "name": "stdout",
          "text": [
            "Оптимальная стратегия для первого игрока: [0.466667, 0.0, 0.533333]\n",
            "Оптимальная стратегия для второго игрока: [0.466667, 0.0, 0.0, 0.533333]\n",
            "Цена игры I: 8.266667\n"
          ]
        }
      ]
    }
  ]
}