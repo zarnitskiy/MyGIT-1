{
  "nbformat": 4,
  "nbformat_minor": 5,
  "metadata": {
    "kernelspec": {
      "display_name": "Python 3 (ipykernel)",
      "language": "python",
      "name": "python3"
    },
    "language_info": {
      "codemirror_mode": {
        "name": "ipython",
        "version": 3
      },
      "file_extension": ".py",
      "mimetype": "text/x-python",
      "name": "python",
      "nbconvert_exporter": "python",
      "pygments_lexer": "ipython3",
      "version": "3.8.11"
    },
    "colab": {
      "name": "Untitled.ipynb",
      "provenance": []
    }
  },
  "cells": [
    {
      "cell_type": "code",
      "metadata": {
        "id": "1f850be7"
      },
      "source": [
        "import pandas as pd\n",
        "import numpy as np\n",
        "import matplotlib.pyplot as plt\n",
        "import statistics\n",
        "import scipy.stats as sps\n",
        "from scipy.optimize import curve_fit\n",
        "from numpy import exp\n",
        "\n",
        "ydata = np.array([10, 34, 46, 55, 61, 76, 84, 99, 103, 110])\n",
        "xdata = np.arange(1, 11)\n"
      ],
      "id": "1f850be7",
      "execution_count": 22,
      "outputs": []
    },
    {
      "cell_type": "code",
      "metadata": {
        "colab": {
          "base_uri": "https://localhost:8080/",
          "height": 282
        },
        "id": "a4766e66",
        "outputId": "4769c48c-f59e-4381-b65e-1fa0413e03de"
      },
      "source": [
        "plt.scatter(xdata, ydata)\n"
      ],
      "id": "a4766e66",
      "execution_count": 23,
      "outputs": [
        {
          "output_type": "execute_result",
          "data": {
            "text/plain": [
              "<matplotlib.collections.PathCollection at 0x7f9947392b90>"
            ]
          },
          "metadata": {},
          "execution_count": 23
        },
        {
          "output_type": "display_data",
          "data": {
            "image/png": "[encoded data removed]",
            "text/plain": [
              "<Figure size 432x288 with 1 Axes>"
            ]
          },
          "metadata": {
            "needs_background": "light"
          }
        }
      ]
    },
    {
      "cell_type": "code",
      "metadata": {
        "colab": {
          "base_uri": "https://localhost:8080/"
        },
        "id": "cd9af3a8",
        "outputId": "48b78e00-0f6a-4f01-e780-7f98d8dcea8b"
      },
      "source": [
        "from scipy import stats\n",
        "\n",
        "stats.pearsonr(xdata,ydata)"
      ],
      "id": "cd9af3a8",
      "execution_count": 24,
      "outputs": [
        {
          "output_type": "execute_result",
          "data": {
            "text/plain": [
              "(0.9888066190564795, 6.776067544562315e-08)"
            ]
          },
          "metadata": {},
          "execution_count": 24
        }
      ]
    },
    {
      "cell_type": "code",
      "metadata": {
        "colab": {
          "base_uri": "https://localhost:8080/"
        },
        "id": "6507d17d",
        "outputId": "256c6e40-d947-4eea-afcd-c19626dbfadd"
      },
      "source": [
        "stats.spearmanr(xdata, ydata)\n"
      ],
      "id": "6507d17d",
      "execution_count": 25,
      "outputs": [
        {
          "output_type": "execute_result",
          "data": {
            "text/plain": [
              "SpearmanrResult(correlation=0.9999999999999999, pvalue=6.646897422032013e-64)"
            ]
          },
          "metadata": {},
          "execution_count": 25
        }
      ]
    },
    {
      "cell_type": "code",
      "metadata": {
        "id": "6e4a246d"
      },
      "source": [
        ">>> from sklearn.linear_model import LinearRegression\n",
        "ydata = np.array([10, 34, 46, 55, 61, 76, 84, 99, 103, 110])\n",
        "xdata = np.array([1,2,3,4,5,6,7,8,9,10]).reshape((-1, 1))"
      ],
      "id": "6e4a246d",
      "execution_count": 30,
      "outputs": []
    },
    {
      "cell_type": "code",
      "metadata": {
        "colab": {
          "base_uri": "https://localhost:8080/",
          "height": 387
        },
        "id": "c543122c",
        "outputId": "2463f5ee-19ea-424c-d3b1-809b8adfa141"
      },
      "source": [
        "model = LinearRegression()\n",
        "model.fit(xdata, ydata)\n",
        "r_sq = model.score(xdata, ydata)\n",
        "print('coefficient of determination:', r_sq)\n",
        "print('intercept:', model.intercept_)\n",
        "print('slope:', model.coef_)\n",
        "y_pred = model.predict(x)\n",
        "print('predicted response:', y_pred, sep='\\n')\n",
        "plt.scatter(xdata, ydata)\n",
        "plt.plot(xdata,y_pred)"
      ],
      "id": "c543122c",
      "execution_count": 31,
      "outputs": [
        {
          "output_type": "stream",
          "name": "stdout",
          "text": [
            "coefficient of determination: 0.9777385298899057\n",
            "intercept: 9.466666666666647\n",
            "slope: [10.60606061]\n",
            "predicted response:\n",
            "[ 20.07272727  30.67878788  41.28484848  51.89090909  62.4969697\n",
            "  73.1030303   83.70909091  94.31515152 104.92121212 115.52727273]\n"
          ]
        },
        {
          "output_type": "execute_result",
          "data": {
            "text/plain": [
              "[<matplotlib.lines.Line2D at 0x7f9947259ed0>]"
            ]
          },
          "metadata": {},
          "execution_count": 31
        },
        {
          "output_type": "display_data",
          "data": {
            "image/png": "[encoded data removed]",
            "text/plain": [
              "<Figure size 432x288 with 1 Axes>"
            ]
          },
          "metadata": {
            "needs_background": "light"
          }
        }
      ]
    }
  ]
}