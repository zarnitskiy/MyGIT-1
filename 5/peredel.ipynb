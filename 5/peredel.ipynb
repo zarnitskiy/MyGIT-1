{
  "nbformat": 4,
  "nbformat_minor": 5,
  "metadata": {
    "kernelspec": {
      "display_name": "Python 3 (ipykernel)",
      "language": "python",
      "name": "python3"
    },
    "language_info": {
      "codemirror_mode": {
        "name": "ipython",
        "version": 3
      },
      "file_extension": ".py",
      "mimetype": "text/x-python",
      "name": "python",
      "nbconvert_exporter": "python",
      "pygments_lexer": "ipython3",
      "version": "3.8.11"
    },
    "colab": {
      "name": "Untitled.ipynb",
      "provenance": [],
      "collapsed_sections": []
    }
  },
  "cells": [
    {
      "cell_type": "code",
      "metadata": {
        "id": "f6349136"
      },
      "source": [
        "import pandas as pd\n",
        "import numpy as np\n",
        "import matplotlib.pyplot as plt\n",
        "import statistics\n",
        "import scipy.stats as sps\n",
        "from scipy.optimize import curve_fit\n",
        "from numpy import exp\n",
        "from sklearn.metrics import r2_score\n",
        "from scipy.integrate import odeint\n",
        "\n",
        "ydata = np.array([35.8348877181645,34.3156930776505,34.7361274861449,34.9891711259547,32.1669879285304,32.7608306623919,31.8609349848603,31.8564011743312,28.235062110603,27.0833359042143,26.4860613898039,23.6263144909566,23.885203232307,21.3416389160475,20.5720806912806,15.2502504223896,14.5468144028532,12.529028059356,8.86033934277976,4.79994600226351])\n",
        "xdata = np.linspace(1, 20, 20)\n"
      ],
      "id": "f6349136",
      "execution_count": 18,
      "outputs": []
    },
    {
      "cell_type": "code",
      "metadata": {
        "colab": {
          "base_uri": "https://localhost:8080/",
          "height": 350
        },
        "id": "e89ca32f",
        "outputId": "a903a44a-35f0-49ca-b0d9-7bb862ccd6c4"
      },
      "source": [
        "def func(xdata, C1, C2, C3):\n",
        "    return C1*exp(C2*xdata)+C3\n",
        "\n",
        "popt, pcov = curve_fit(func, xdata, ydata)\n",
        "\n",
        "print (popt)\n",
        "print ( pcov)\n",
        "\n",
        "plt.plot(xdata, ydata, '.');\n",
        "plt.plot(xdata, func(xdata, popt[0], popt[1],popt[2]),'r-')\n",
        "\n",
        "r2_score(ydata, func(xdata, popt[0], popt[1],popt[2]))"
      ],
      "id": "e89ca32f",
      "execution_count": 19,
      "outputs": [
        {
          "output_type": "stream",
          "name": "stdout",
          "text": [
            "[-5.10742713  0.09797078 41.46556726]\n",
            "[[ 1.36768318e+00  1.14342443e-02 -1.87912811e+00]\n",
            " [ 1.14342443e-02  9.65798651e-05 -1.54869529e-02]\n",
            " [-1.87912811e+00 -1.54869529e-02  2.67700951e+00]]\n"
          ]
        },
        {
          "output_type": "execute_result",
          "data": {
            "text/plain": [
              "0.9909813089162104"
            ]
          },
          "metadata": {},
          "execution_count": 19
        },
        {
          "output_type": "display_data",
          "data": {
            "image/png": "[encoded data removed]",
            "text/plain": [
              "<Figure size 432x288 with 1 Axes>"
            ]
          },
          "metadata": {
            "needs_background": "light"
          }
        }
      ]
    },
    {
      "cell_type": "code",
      "metadata": {
        "colab": {
          "base_uri": "https://localhost:8080/",
          "height": 316
        },
        "id": "AGyKzsV5omxn",
        "outputId": "47fd0165-152b-4c5d-cb16-4a30eff26f2e"
      },
      "source": [
        "def diff(t, xdata, k1, k2):\n",
        "  return k1*xdata - k2\n",
        "\n",
        "def diff_model(t, k1, k2, x0):\n",
        "  return odeint(diff, x0, t, args=(k1,k2)).ravel()\n",
        "\n",
        "param, param_cov = curve_fit(diff_model, xdata, ydata)\n",
        "y0 = param[2]\n",
        "\n",
        "print('Полученное уравнение:')\n",
        "print(\"dx/dt =\",round(param[0],3),\"·x +\",-round(param[1],3))\n",
        "\n",
        "md_dif = diff_model(xdata, param[0], param[1],param[2])\n",
        "\n",
        "r2 = r2_score(ydata, ans_dif)\n",
        "print(r2)\n",
        "\n",
        "plt.plot (xdata, ydata, 'o')\n",
        "plt.plot (xdata, md_dif, 'r')\n",
        "plt.show()"
      ],
      "id": "AGyKzsV5omxn",
      "execution_count": 36,
      "outputs": [
        {
          "output_type": "stream",
          "name": "stdout",
          "text": [
            "Полученное уравнение:\n",
            "dx/dt = -0.148 ·x + 0.018\n",
            "0.9901527275965651\n"
          ]
        },
        {
          "output_type": "display_data",
          "data": {
            "image/png": "[encoded data removed]",
            "text/plain": [
              "<Figure size 432x288 with 1 Axes>"
            ]
          },
          "metadata": {
            "needs_background": "light"
          }
        }
      ]
    },
    {
      "cell_type": "code",
      "metadata": {
        "colab": {
          "base_uri": "https://localhost:8080/",
          "height": 282
        },
        "id": "cd12ef74",
        "outputId": "6f8552ec-1c7e-44eb-a914-b19b186aaacf"
      },
      "source": [
        "def func(xdata, C1, C2):\n",
        "    xdata2= [y0]\n",
        "    for i in range(1, 20):\n",
        "      xdata2.append(C1*xdata2[i - 1] - C2)\n",
        "    return xdata2\n",
        "\n",
        "popt, pcov = curve_fit(func, xdata, ydata)\n",
        "\n",
        "plt.plot(xdata, ydata, '.');\n",
        "plt.plot(xdata, func(xdata, popt[0], popt[1]),'r-')\n",
        "\n",
        "r2_score(ydata, func(xdata, popt[0], popt[1]))"
      ],
      "id": "cd12ef74",
      "execution_count": 33,
      "outputs": [
        {
          "output_type": "execute_result",
          "data": {
            "text/plain": [
              "0.9899574216225957"
            ]
          },
          "metadata": {},
          "execution_count": 33
        },
        {
          "output_type": "display_data",
          "data": {
            "image/png": "[encoded data removed]",
            "text/plain": [
              "<Figure size 432x288 with 1 Axes>"
            ]
          },
          "metadata": {
            "needs_background": "light"
          }
        }
      ]
    }
  ]
}